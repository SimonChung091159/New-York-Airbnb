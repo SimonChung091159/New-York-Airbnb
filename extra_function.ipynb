{
 "cells": [
  {
   "cell_type": "code",
   "execution_count": null,
   "metadata": {},
   "outputs": [],
   "source": [
    "#find difference between airbnb to central of neighbourhood group\n",
    "\n",
    "man_lat = 40.7831\n",
    "man_long = -73.9712\n",
    "\n",
    "bk_lat = 40.6782\n",
    "bk_long = -73.9442\n",
    "\n",
    "qn_lat = 40.7282\n",
    "qn_long = -73.7949\n",
    "\n",
    "si_lat = 40.5795\n",
    "si_long = -74.1502\n",
    "\n",
    "br_lat = 40.8448\n",
    "br_long = -73.8648\n",
    "\n",
    "df_man = df.loc[df['neighbourhood_group'] == 'Manhattan']\n",
    "df_bk = df.loc[df['neighbourhood_group'] == 'Brooklyn']\n",
    "df_qn = df.loc[df['neighbourhood_group'] == 'Queens']\n",
    "df_si = df.loc[df['neighbourhood_group'] == 'Staten Island']\n",
    "df_br = df.loc[df['neighbourhood_group'] == 'Bronx']\n",
    "\n",
    "df_man.insert(5, 'lat_diff', abs(df_man['latitude'] - man_lat))\n",
    "df_man.insert(5, 'long_diff', abs(df_man['longitude'] - man_long))\n",
    "df_man.insert(5, 'avg_diff', ((df_man['lat_diff'] + df_man['long_diff']) / 2) )\n",
    "\n",
    "df_bk.insert(5, 'lat_diff', abs(df_bk['latitude'] - bk_lat))\n",
    "df_bk.insert(5, 'long_diff', abs(df_bk['longitude'] - bk_long))\n",
    "df_bk.insert(5, 'avg_diff', ((df_bk['lat_diff'] + df_bk['long_diff']) / 2) )\n",
    "\n",
    "df_qn.insert(5, 'lat_diff', abs(df_qn['latitude'] - qn_lat))\n",
    "df_qn.insert(5, 'long_diff', abs(df_qn['longitude'] - qn_long))\n",
    "df_qn.insert(5, 'avg_diff', ((df_qn['lat_diff'] + df_qn['long_diff']) / 2) )\n",
    "\n",
    "df_si.insert(5, 'lat_diff', abs(df_si['latitude'] - si_lat))\n",
    "df_si.insert(5, 'long_diff', abs(df_si['longitude'] - si_long))\n",
    "df_si.insert(5, 'avg_diff', ((df_si['lat_diff'] + df_si['long_diff']) / 2) )\n",
    "\n",
    "df_br.insert(5, 'lat_diff', abs(df_br['latitude'] - br_lat))\n",
    "df_br.insert(5, 'long_diff', abs(df_br['longitude'] - br_long))\n",
    "df_br.insert(5, 'avg_diff', ((df_br['lat_diff'] + df_br['long_diff']) / 2) )\n",
    "\n",
    "df_bnb = pd.concat([df_man, df_bk, df_qn, df_si, df_br], ignore_index=True)\n",
    "df_bnb\n",
    "\n",
    "sns.distplot(df_bnb['avg_diff'])"
   ]
  },
  {
   "cell_type": "code",
   "execution_count": null,
   "metadata": {},
   "outputs": [],
   "source": [
    "# plot location in relation to Neighbourhood group \n",
    "title = 'Neighbourhood Group Location'\n",
    "plt.figure(figsize=(10,6))\n",
    "sns.scatterplot(data.longitude,data.latitude,hue=data.neighbourhood_group).set_title(title)\n",
    "plt.ioff()"
   ]
  },
  {
   "cell_type": "code",
   "execution_count": null,
   "metadata": {},
   "outputs": [],
   "source": []
  }
 ],
 "metadata": {
  "kernelspec": {
   "display_name": "Python 3",
   "language": "python",
   "name": "python3"
  },
  "language_info": {
   "codemirror_mode": {
    "name": "ipython",
    "version": 3
   },
   "file_extension": ".py",
   "mimetype": "text/x-python",
   "name": "python",
   "nbconvert_exporter": "python",
   "pygments_lexer": "ipython3",
   "version": "3.7.8"
  }
 },
 "nbformat": 4,
 "nbformat_minor": 4
}
